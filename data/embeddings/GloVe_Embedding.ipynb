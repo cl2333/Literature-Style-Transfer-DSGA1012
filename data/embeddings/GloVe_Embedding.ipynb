{
 "cells": [
  {
   "cell_type": "markdown",
   "metadata": {},
   "source": [
    "# GloVe Embedding"
   ]
  },
  {
   "cell_type": "code",
   "execution_count": null,
   "metadata": {},
   "outputs": [],
   "source": []
  },
  {
   "cell_type": "code",
   "execution_count": 2,
   "metadata": {},
   "outputs": [
    {
     "name": "stdout",
     "output_type": "stream",
     "text": [
      "--2020-05-14 16:09:59--  http://nlp.stanford.edu/data/glove.6B.zip\n",
      "Resolving nlp.stanford.edu (nlp.stanford.edu)... 171.64.67.140\n",
      "Connecting to nlp.stanford.edu (nlp.stanford.edu)|171.64.67.140|:80... connected.\n",
      "HTTP request sent, awaiting response... 302 Found\n",
      "Location: https://nlp.stanford.edu/data/glove.6B.zip [following]\n",
      "--2020-05-14 16:09:59--  https://nlp.stanford.edu/data/glove.6B.zip\n",
      "Connecting to nlp.stanford.edu (nlp.stanford.edu)|171.64.67.140|:443... connected.\n",
      "HTTP request sent, awaiting response... 301 Moved Permanently\n",
      "Location: http://downloads.cs.stanford.edu/nlp/data/glove.6B.zip [following]\n",
      "--2020-05-14 16:09:59--  http://downloads.cs.stanford.edu/nlp/data/glove.6B.zip\n",
      "Resolving downloads.cs.stanford.edu (downloads.cs.stanford.edu)... 171.64.64.22\n",
      "Connecting to downloads.cs.stanford.edu (downloads.cs.stanford.edu)|171.64.64.22|:80... connected.\n",
      "HTTP request sent, awaiting response... 200 OK\n",
      "Length: 862182613 (822M) [application/zip]\n",
      "Saving to: ‘glove.6B.zip’\n",
      "\n",
      "glove.6B.zip        100%[===================>] 822.24M  1.79MB/s    in 6m 50s  \n",
      "\n",
      "2020-05-14 16:16:50 (2.01 MB/s) - ‘glove.6B.zip’ saved [862182613/862182613]\n",
      "\n",
      "Archive:  glove.6B.zip\n",
      "  inflating: glove.6B.50d.txt        \n",
      "  inflating: glove.6B.100d.txt       \n",
      "  inflating: glove.6B.200d.txt       \n",
      "  inflating: glove.6B.300d.txt       \n"
     ]
    }
   ],
   "source": [
    "#@title Download GloVe word embeddings\n",
    "\n",
    "# === Download GloVe word embeddings\n",
    "!wget http://nlp.stanford.edu/data/glove.6B.zip\n",
    "\n",
    "# === Unzip word embeddings and use only the top 50000 word embeddings for speed\n",
    "!unzip glove.6B.zip\n",
    "!head -n 50000 glove.6B.200d.txt > glove.6B.200d__50k.txt\n",
    "\n",
    "# === Download Preprocessed version\n",
    "#!wget https://docs.google.com/uc?id=1KMJTagaVD9hFHXFTPtNk0u2JjvNlyCAu -O glove_split.aa\n",
    "#!wget https://docs.google.com/uc?id=1LF2yD2jToXriyD-lsYA5hj03f7J3ZKaY -O glove_split.ab\n",
    "#!wget https://docs.google.com/uc?id=1N1xnxkRyM5Gar7sv4d41alyTL92Iip3f -O glove_split.ac\n",
    "#!cat glove_split.?? > 'glove.6B.300d__50k.txt'"
   ]
  },
  {
   "cell_type": "code",
   "execution_count": 13,
   "metadata": {},
   "outputs": [],
   "source": [
    "import numpy as np\n",
    "def load_glove(glove_path, embedding_dim):\n",
    "    with open(glove_path) as f:\n",
    "        token_ls = []\n",
    "        embedding_ls = [np.zeros(embedding_dim), np.random.rand(embedding_dim)]\n",
    "        for line in f:\n",
    "            token, raw_embedding = line.split(' ',1)\n",
    "            #token, raw_embedding = line.split()\n",
    "            token_ls.append(token)\n",
    "            embedding = np.array([float(x) for x in raw_embedding.split()])\n",
    "            embedding = embedding[ :embedding_dim]\n",
    "            embedding_ls.append(embedding)\n",
    "        embeddings = np.array(embedding_ls)\n",
    "    return token_ls, embeddings\n",
    "\n",
    "#PAD_TOKEN = '<PAD>'\n",
    "#UNK_TOKEN = '<UNK>'\n",
    "EMBEDDING_DIM= 192 # dimension of Glove embeddings\n",
    "glove_path = \"glove.6B.200d__50k.txt\"\n",
    "vocab, embeddings = load_glove(glove_path, EMBEDDING_DIM)"
   ]
  },
  {
   "cell_type": "code",
   "execution_count": 14,
   "metadata": {},
   "outputs": [
    {
     "data": {
      "text/plain": [
       "192"
      ]
     },
     "execution_count": 14,
     "metadata": {},
     "output_type": "execute_result"
    }
   ],
   "source": [
    "len(embeddings[5])"
   ]
  },
  {
   "cell_type": "code",
   "execution_count": 15,
   "metadata": {},
   "outputs": [],
   "source": [
    "embedding_dic = {}\n",
    "for i in range(len(vocab)):\n",
    "    embedding_dic[vocab[i]] = embeddings[i]"
   ]
  },
  {
   "cell_type": "code",
   "execution_count": 16,
   "metadata": {},
   "outputs": [],
   "source": [
    "import pickle\n",
    "    \n",
    "def save_pickle(filename, myobj):\n",
    "    \"\"\"\n",
    "    save object to file using pickle\n",
    "    \n",
    "    @param filename: name of destination file\n",
    "    @type filename: str\n",
    "    @param myobj: object to save (has to be pickleable)\n",
    "    @type myobj: obj\n",
    "    \"\"\"\n",
    "    \n",
    "    with open(filename, 'wb') as configuration_file:\n",
    "        pickle.dump(myobj, configuration_file)"
   ]
  },
  {
   "cell_type": "code",
   "execution_count": 17,
   "metadata": {},
   "outputs": [],
   "source": [
    "save_pickle('glove.p',embedding_dic)"
   ]
  },
  {
   "cell_type": "markdown",
   "metadata": {},
   "source": [
    "###  Try loading"
   ]
  },
  {
   "cell_type": "code",
   "execution_count": 18,
   "metadata": {},
   "outputs": [],
   "source": [
    "embedding_path = 'glove.p'\n",
    "embedding_try = pickle.load(open(embedding_path,\"r\"))"
   ]
  },
  {
   "cell_type": "code",
   "execution_count": 19,
   "metadata": {},
   "outputs": [
    {
     "data": {
      "text/plain": [
       "192"
      ]
     },
     "execution_count": 19,
     "metadata": {},
     "output_type": "execute_result"
    }
   ],
   "source": [
    "len(embedding_try['verplank'])"
   ]
  },
  {
   "cell_type": "code",
   "execution_count": null,
   "metadata": {},
   "outputs": [],
   "source": []
  }
 ],
 "metadata": {
  "kernelspec": {
   "display_name": "Python 2",
   "language": "python",
   "name": "python2"
  },
  "language_info": {
   "codemirror_mode": {
    "name": "ipython",
    "version": 2
   },
   "file_extension": ".py",
   "mimetype": "text/x-python",
   "name": "python",
   "nbconvert_exporter": "python",
   "pygments_lexer": "ipython2",
   "version": "2.7.16"
  }
 },
 "nbformat": 4,
 "nbformat_minor": 2
}
