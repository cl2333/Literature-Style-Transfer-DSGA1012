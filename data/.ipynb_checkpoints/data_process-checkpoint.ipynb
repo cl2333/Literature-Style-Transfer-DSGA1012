{
 "cells": [
  {
   "cell_type": "code",
   "execution_count": 58,
   "metadata": {},
   "outputs": [],
   "source": [
    "import nltk\n",
    "import re"
   ]
  },
  {
   "cell_type": "markdown",
   "metadata": {},
   "source": [
    "Remove special characters"
   ]
  },
  {
   "cell_type": "code",
   "execution_count": 59,
   "metadata": {},
   "outputs": [],
   "source": [
    "original_raw = open('original_all.txt').read()\n",
    "\n",
    "sub_list = ['ì','î','`', 'ó', 'ë'] #all special characters needs to be replaced \n",
    "original_new = original_raw\n",
    "\n",
    "for sub_char in sub_list:\n",
    "    original_new = re.sub(sub_char, '', original_new)\n",
    "\n",
    "original_new = re.sub('í', \"'\", original_new)\n",
    "original_new = re.sub('\\n\\n', '\\n', original_new) # remove blank line"
   ]
  },
  {
   "cell_type": "code",
   "execution_count": 60,
   "metadata": {},
   "outputs": [],
   "source": [
    "#print(original_new)"
   ]
  },
  {
   "cell_type": "code",
   "execution_count": 61,
   "metadata": {},
   "outputs": [],
   "source": [
    "modern_raw = open('modern_all.txt').read()\n",
    "\n",
    "sub_list = ['ì','î','`', 'ó'] #all special characters needs to be replaced \n",
    "modern_new = modern_raw\n",
    "\n",
    "for sub_char in sub_list:\n",
    "    modern_new = re.sub(sub_char, '', original_new)\n",
    "\n",
    "modern_new = re.sub('í', \"'\", original_new)\n",
    "modern_new = re.sub('\\n\\n', '\\n', modern_new) # remove blank line"
   ]
  },
  {
   "cell_type": "markdown",
   "metadata": {},
   "source": [
    "Eliminate blanks at the end of paragraph"
   ]
  },
  {
   "cell_type": "code",
   "execution_count": 62,
   "metadata": {},
   "outputs": [],
   "source": [
    "while (' \\n' in modern_new):\n",
    "    modern_new = re.sub(' \\n', '\\n', modern_new)\n",
    "\n",
    "while (' \\n' in original_new):\n",
    "    original_new = re.sub(' \\n', '\\n', original_new)"
   ]
  },
  {
   "cell_type": "markdown",
   "metadata": {},
   "source": [
    "Save processed files. (Make sure to delete original ones from directory first)"
   ]
  },
  {
   "cell_type": "code",
   "execution_count": 63,
   "metadata": {},
   "outputs": [],
   "source": [
    "open('original_all_cleaned.txt', 'w').write(original_new)"
   ]
  },
  {
   "cell_type": "code",
   "execution_count": 64,
   "metadata": {},
   "outputs": [],
   "source": [
    "open('modern_all_cleaned.txt', 'w').write(modern_new)"
   ]
  },
  {
   "cell_type": "code",
   "execution_count": 49,
   "metadata": {},
   "outputs": [],
   "source": [
    "#To see the raw printing of processed Shakespear format\n",
    "\n",
    "#try_ = open('train.modern.nltktok').read()\n",
    "#try_"
   ]
  },
  {
   "cell_type": "code",
   "execution_count": 56,
   "metadata": {},
   "outputs": [],
   "source": [
    "# To see processed file format\n",
    "\n",
    "#modern_new"
   ]
  },
  {
   "cell_type": "code",
   "execution_count": null,
   "metadata": {},
   "outputs": [],
   "source": []
  }
 ],
 "metadata": {
  "kernelspec": {
   "display_name": "Python 2",
   "language": "python",
   "name": "python2"
  },
  "language_info": {
   "codemirror_mode": {
    "name": "ipython",
    "version": 2
   },
   "file_extension": ".py",
   "mimetype": "text/x-python",
   "name": "python",
   "nbconvert_exporter": "python",
   "pygments_lexer": "ipython2",
   "version": "2.7.16"
  }
 },
 "nbformat": 4,
 "nbformat_minor": 2
}
